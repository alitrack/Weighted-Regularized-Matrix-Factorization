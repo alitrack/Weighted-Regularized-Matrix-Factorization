{
 "cells": [
  {
   "cell_type": "code",
   "execution_count": 1,
   "id": "507a3a39",
   "metadata": {},
   "outputs": [
    {
     "name": "stdout",
     "output_type": "stream",
     "text": [
      "FM model is only supported on Linux.\n",
      "Windows executable can be found at http://www.libfm.org.\n"
     ]
    }
   ],
   "source": [
    "import sys\n",
    "sys.path.append(\"../\")\n",
    "\n",
    "import pandas as pd\n",
    "\n",
    "from utils.common.timer import Timer\n",
    "from Datasets import Movielens\n",
    "from Evaluation.data_split import split_data\n",
    "from Evaluation.ranking_metrics import *\n",
    "from WRMF.wrmf import *\n",
    "from WRMF import wrmf_rec"
   ]
  },
  {
   "cell_type": "markdown",
   "id": "5363a0d5",
   "metadata": {},
   "source": [
    "# **1. Load Dataset**"
   ]
  },
  {
   "cell_type": "code",
   "execution_count": 2,
   "id": "098d06a0",
   "metadata": {},
   "outputs": [
    {
     "name": "stderr",
     "output_type": "stream",
     "text": [
      "100%|███████████████████████████████████████████████████████████████████████████████████████████████████████████████| 4.81k/4.81k [00:02<00:00, 1.92kKB/s]\n"
     ]
    }
   ],
   "source": [
    "DATANAME = 'movielens100k'\n",
    "df_movielens = Movielens.load_data()"
   ]
  },
  {
   "cell_type": "markdown",
   "id": "4462a499",
   "metadata": {},
   "source": [
    "# **2. Split Data into Train/Test**"
   ]
  },
  {
   "cell_type": "code",
   "execution_count": 3,
   "id": "8a47b995",
   "metadata": {},
   "outputs": [
    {
     "name": "stderr",
     "output_type": "stream",
     "text": [
      "100%|██████████████████████████████████████████████████████████████████████████████████████████████████████████████████| 943/943 [00:04<00:00, 223.13it/s]"
     ]
    },
    {
     "name": "stdout",
     "output_type": "stream",
     "text": [
      "(79619, 4) (20352, 4)\n"
     ]
    },
    {
     "name": "stderr",
     "output_type": "stream",
     "text": [
      "\n"
     ]
    }
   ],
   "source": [
    "# train, test = split_data(df_movielens, split_strategy=\"temporal_global\")\n",
    "train, test = split_data(df_movielens, split_strategy=\"random_by_user\", random_state=0)\n",
    "\n",
    "print(train.shape, test.shape)"
   ]
  },
  {
   "cell_type": "markdown",
   "id": "018b11de",
   "metadata": {},
   "source": [
    "# **3. WRMF Models**"
   ]
  },
  {
   "cell_type": "code",
   "execution_count": 4,
   "id": "2fb99e4a",
   "metadata": {},
   "outputs": [
    {
     "name": "stdout",
     "output_type": "stream",
     "text": [
      "maximum of weights=0.01, minimum=0.01\n",
      "maximum of weights=0.1, minimum=0.1\n",
      "maximum of weights=4.123, minimum=0.112\n",
      "maximum of weights=0.9420000000000001, minimum=0.482\n",
      "maximum of weights=0.3027277087538526, minimum=0.30087664168585826\n"
     ]
    }
   ],
   "source": [
    "factors = 128\n",
    "models = [\n",
    "    WRMF(train, weight_strategy=\"uniform_pos\", alpha=0.01, k=32, \n",
    "         learning_rate=0.01),\n",
    "    WRMF(train, weight_strategy=\"uniform_neg\", alpha=0.1, lambda_u=0.1, \n",
    "         lambda_v=0.1, k=factors, learning_rate=0.01),\n",
    "    WRMF(train, weight_strategy=\"user_oriented\", alpha=0.007, lambda_u=0.1, \n",
    "         lambda_v=0.1, k=factors, learning_rate=0.01),\n",
    "    WRMF(train, weight_strategy=\"item_oriented\", alpha=0.001, k=factors, \n",
    "         learning_rate=0.01),\n",
    "    WRMF(train, weight_strategy=\"item_popularity\", alpha=0.001, c_0=500, \n",
    "         lambda_u=0.1, lambda_v=0.1, k=factors, learning_rate=0.0)\n",
    "]\n",
    "\n",
    "strategies = [\n",
    "    \"uniform_pos\",\n",
    "    \"uniform_neg\",\n",
    "    \"user_oriented\",\n",
    "    \"item_oriented\",\n",
    "    \"item_popularity\"\n",
    "]"
   ]
  },
  {
   "cell_type": "markdown",
   "id": "1d0e1be3",
   "metadata": {},
   "source": [
    "# **4. Train Models and Test**"
   ]
  },
  {
   "cell_type": "code",
   "execution_count": 5,
   "id": "b2f383e6",
   "metadata": {},
   "outputs": [],
   "source": [
    "def generate_summary(data, strategy, k, train_time, ranking_metrics):\n",
    "    summary = {\"Data\": data, \"Strategy\": strategy, \"K\": k, \"Train time (s)\": train_time}\n",
    "    if ranking_metrics is None:\n",
    "        ranking_metrics = {\n",
    "            \"Precision@k\": np.nan,\n",
    "            \"Recall@k\": np.nan,\n",
    "            \"NDCG@k\": np.nan,\n",
    "        }\n",
    "    summary.update(ranking_metrics)\n",
    "    return summary"
   ]
  },
  {
   "cell_type": "code",
   "execution_count": 7,
   "id": "a2d0de17",
   "metadata": {},
   "outputs": [
    {
     "data": {
      "application/vnd.jupyter.widget-view+json": {
       "model_id": "2faa1b4d0f6043f58403f621ced88ca5",
       "version_major": 2,
       "version_minor": 0
      },
      "text/plain": [
       "HBox(children=(HTML(value=''), FloatProgress(value=0.0), HTML(value='')))"
      ]
     },
     "metadata": {},
     "output_type": "display_data"
    },
    {
     "name": "stdout",
     "output_type": "stream",
     "text": [
      "\n",
      "Learning completed!\n"
     ]
    },
    {
     "data": {
      "application/vnd.jupyter.widget-view+json": {
       "model_id": "bd6facd6f8234e269c99c1ff070f9963",
       "version_major": 2,
       "version_minor": 0
      },
      "text/plain": [
       "HBox(children=(HTML(value=''), FloatProgress(value=0.0), HTML(value='')))"
      ]
     },
     "metadata": {},
     "output_type": "display_data"
    },
    {
     "name": "stdout",
     "output_type": "stream",
     "text": [
      "\n",
      "Learning completed!\n"
     ]
    },
    {
     "data": {
      "application/vnd.jupyter.widget-view+json": {
       "model_id": "a5030e6591744ba48d7ceae20106deec",
       "version_major": 2,
       "version_minor": 0
      },
      "text/plain": [
       "HBox(children=(HTML(value=''), FloatProgress(value=0.0), HTML(value='')))"
      ]
     },
     "metadata": {},
     "output_type": "display_data"
    },
    {
     "name": "stdout",
     "output_type": "stream",
     "text": [
      "\n",
      "Learning completed!\n"
     ]
    },
    {
     "data": {
      "application/vnd.jupyter.widget-view+json": {
       "model_id": "d898e78207a74bdaaba4d9bc8cd3dfa6",
       "version_major": 2,
       "version_minor": 0
      },
      "text/plain": [
       "HBox(children=(HTML(value=''), FloatProgress(value=0.0), HTML(value='')))"
      ]
     },
     "metadata": {},
     "output_type": "display_data"
    },
    {
     "name": "stdout",
     "output_type": "stream",
     "text": [
      "\n",
      "Learning completed!\n"
     ]
    },
    {
     "data": {
      "application/vnd.jupyter.widget-view+json": {
       "model_id": "ac8461c3fd304245950a5f60f6db82ec",
       "version_major": 2,
       "version_minor": 0
      },
      "text/plain": [
       "HBox(children=(HTML(value=''), FloatProgress(value=0.0), HTML(value='')))"
      ]
     },
     "metadata": {},
     "output_type": "display_data"
    },
    {
     "name": "stdout",
     "output_type": "stream",
     "text": [
      "\n",
      "Learning completed!\n"
     ]
    }
   ],
   "source": [
    "cols = [\"Data\", \"Strategy\", \"K\", \"Train time (s)\",\"Precision@k\", \"Recall@k\", \"NDCG@k\"]\n",
    "df_result = pd.DataFrame(columns=cols)\n",
    "k = 10\n",
    "\n",
    "\n",
    "for strategy, model in zip(strategies, models):\n",
    "    # 1. train\n",
    "    with Timer() as train_time:\n",
    "        model =  train_cornac(model, train)\n",
    "    \n",
    "    # 2. recommendation\n",
    "    top_10 = wrmf_rec.recommend_top_k(model, train, k)\n",
    "    \n",
    "    # 3. evaluation - ranking metric@k\n",
    "    eval_result = ranking_metrics(top_10, test)\n",
    "    \n",
    "    # 4. summary of evaluation results\n",
    "    summary = generate_summary(DATANAME, strategy, k, train_time, eval_result)\n",
    "    df_result.loc[df_result.shape[0] + 1] = summary"
   ]
  },
  {
   "cell_type": "markdown",
   "id": "3233872e",
   "metadata": {},
   "source": [
    "# **5. Summary**"
   ]
  },
  {
   "cell_type": "code",
   "execution_count": 9,
   "id": "a92a2235",
   "metadata": {},
   "outputs": [
    {
     "data": {
      "text/html": [
       "<div>\n",
       "<style scoped>\n",
       "    .dataframe tbody tr th:only-of-type {\n",
       "        vertical-align: middle;\n",
       "    }\n",
       "\n",
       "    .dataframe tbody tr th {\n",
       "        vertical-align: top;\n",
       "    }\n",
       "\n",
       "    .dataframe thead th {\n",
       "        text-align: right;\n",
       "    }\n",
       "</style>\n",
       "<table border=\"1\" class=\"dataframe\">\n",
       "  <thead>\n",
       "    <tr style=\"text-align: right;\">\n",
       "      <th></th>\n",
       "      <th>Data</th>\n",
       "      <th>Strategy</th>\n",
       "      <th>K</th>\n",
       "      <th>Train time (s)</th>\n",
       "      <th>Precision@k</th>\n",
       "      <th>Recall@k</th>\n",
       "      <th>NDCG@k</th>\n",
       "    </tr>\n",
       "  </thead>\n",
       "  <tbody>\n",
       "    <tr>\n",
       "      <th>1</th>\n",
       "      <td>movielens100k</td>\n",
       "      <td>uniform_pos</td>\n",
       "      <td>10</td>\n",
       "      <td>7.5657</td>\n",
       "      <td>0.295864</td>\n",
       "      <td>0.183342</td>\n",
       "      <td>0.348125</td>\n",
       "    </tr>\n",
       "    <tr>\n",
       "      <th>2</th>\n",
       "      <td>movielens100k</td>\n",
       "      <td>uniform_neg</td>\n",
       "      <td>10</td>\n",
       "      <td>16.6732</td>\n",
       "      <td>0.331813</td>\n",
       "      <td>0.218960</td>\n",
       "      <td>0.388555</td>\n",
       "    </tr>\n",
       "    <tr>\n",
       "      <th>3</th>\n",
       "      <td>movielens100k</td>\n",
       "      <td>user_oriented</td>\n",
       "      <td>10</td>\n",
       "      <td>14.8902</td>\n",
       "      <td>0.363945</td>\n",
       "      <td>0.227079</td>\n",
       "      <td>0.428190</td>\n",
       "    </tr>\n",
       "    <tr>\n",
       "      <th>4</th>\n",
       "      <td>movielens100k</td>\n",
       "      <td>item_oriented</td>\n",
       "      <td>10</td>\n",
       "      <td>12.7446</td>\n",
       "      <td>0.367126</td>\n",
       "      <td>0.232437</td>\n",
       "      <td>0.428994</td>\n",
       "    </tr>\n",
       "    <tr>\n",
       "      <th>5</th>\n",
       "      <td>movielens100k</td>\n",
       "      <td>item_popularity</td>\n",
       "      <td>10</td>\n",
       "      <td>11.9179</td>\n",
       "      <td>0.013892</td>\n",
       "      <td>0.004979</td>\n",
       "      <td>0.014350</td>\n",
       "    </tr>\n",
       "  </tbody>\n",
       "</table>\n",
       "</div>"
      ],
      "text/plain": [
       "            Data         Strategy   K Train time (s)  Precision@k  Recall@k  \\\n",
       "1  movielens100k      uniform_pos  10         7.5657     0.295864  0.183342   \n",
       "2  movielens100k      uniform_neg  10        16.6732     0.331813  0.218960   \n",
       "3  movielens100k    user_oriented  10        14.8902     0.363945  0.227079   \n",
       "4  movielens100k    item_oriented  10        12.7446     0.367126  0.232437   \n",
       "5  movielens100k  item_popularity  10        11.9179     0.013892  0.004979   \n",
       "\n",
       "     NDCG@k  \n",
       "1  0.348125  \n",
       "2  0.388555  \n",
       "3  0.428190  \n",
       "4  0.428994  \n",
       "5  0.014350  "
      ]
     },
     "execution_count": 9,
     "metadata": {},
     "output_type": "execute_result"
    }
   ],
   "source": [
    "df_result"
   ]
  },
  {
   "cell_type": "code",
   "execution_count": null,
   "id": "ac53f91b",
   "metadata": {},
   "outputs": [],
   "source": []
  }
 ],
 "metadata": {
  "kernelspec": {
   "display_name": "python_recsys",
   "language": "python",
   "name": "recsys"
  },
  "language_info": {
   "codemirror_mode": {
    "name": "ipython",
    "version": 3
   },
   "file_extension": ".py",
   "mimetype": "text/x-python",
   "name": "python",
   "nbconvert_exporter": "python",
   "pygments_lexer": "ipython3",
   "version": "3.6.12"
  },
  "toc": {
   "base_numbering": 1,
   "nav_menu": {},
   "number_sections": false,
   "sideBar": true,
   "skip_h1_title": false,
   "title_cell": "Table of Contents",
   "title_sidebar": "Contents",
   "toc_cell": false,
   "toc_position": {
    "height": "calc(100% - 180px)",
    "left": "10px",
    "top": "150px",
    "width": "164.988px"
   },
   "toc_section_display": true,
   "toc_window_display": true
  },
  "varInspector": {
   "cols": {
    "lenName": 16,
    "lenType": 16,
    "lenVar": 40
   },
   "kernels_config": {
    "python": {
     "delete_cmd_postfix": "",
     "delete_cmd_prefix": "del ",
     "library": "var_list.py",
     "varRefreshCmd": "print(var_dic_list())"
    },
    "r": {
     "delete_cmd_postfix": ") ",
     "delete_cmd_prefix": "rm(",
     "library": "var_list.r",
     "varRefreshCmd": "cat(var_dic_list()) "
    }
   },
   "types_to_exclude": [
    "module",
    "function",
    "builtin_function_or_method",
    "instance",
    "_Feature"
   ],
   "window_display": false
  }
 },
 "nbformat": 4,
 "nbformat_minor": 5
}
