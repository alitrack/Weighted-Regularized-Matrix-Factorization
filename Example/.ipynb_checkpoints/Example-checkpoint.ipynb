{
 "cells": [
  {
   "cell_type": "code",
   "execution_count": 1,
   "id": "507a3a39",
   "metadata": {},
   "outputs": [
    {
     "name": "stdout",
     "output_type": "stream",
     "text": [
      "FM model is only supported on Linux.\n",
      "Windows executable can be found at http://www.libfm.org.\n"
     ]
    }
   ],
   "source": [
    "import sys\n",
    "sys.path.append(\"../\")\n",
    "\n",
    "import pandas as pd\n",
    "\n",
    "from utils.common.timer import Timer\n",
    "from Datasets import Movielens\n",
    "from Evaluation.data_split import split_data\n",
    "from Evaluation.ranking_metrics import *\n",
    "from WRMF.wrmf import *\n",
    "from WRMF import wrmf_rec"
   ]
  },
  {
   "cell_type": "markdown",
   "id": "5363a0d5",
   "metadata": {},
   "source": [
    "# **1. Load Dataset**"
   ]
  },
  {
   "cell_type": "code",
   "execution_count": 2,
   "id": "098d06a0",
   "metadata": {},
   "outputs": [
    {
     "name": "stderr",
     "output_type": "stream",
     "text": [
      "100%|███████████████████████████████████████████████████████████████████████████████████████████████████████████████| 4.81k/4.81k [00:02<00:00, 1.95kKB/s]\n"
     ]
    }
   ],
   "source": [
    "DATANAME = 'movielens100k'\n",
    "df_movielens = Movielens.load_data()"
   ]
  },
  {
   "cell_type": "markdown",
   "id": "4462a499",
   "metadata": {},
   "source": [
    "# **2. Split Data into Train/Test**"
   ]
  },
  {
   "cell_type": "code",
   "execution_count": 3,
   "id": "8a47b995",
   "metadata": {},
   "outputs": [
    {
     "name": "stderr",
     "output_type": "stream",
     "text": [
      "100%|██████████████████████████████████████████████████████████████████████████████████████████████████████████████████| 943/943 [00:05<00:00, 187.91it/s]"
     ]
    },
    {
     "name": "stdout",
     "output_type": "stream",
     "text": [
      "(79619, 4) (20352, 4)\n"
     ]
    },
    {
     "name": "stderr",
     "output_type": "stream",
     "text": [
      "\n"
     ]
    }
   ],
   "source": [
    "# train, test = split_data(df_movielens, split_strategy=\"temporal_global\")\n",
    "train, test = split_data(df_movielens, split_strategy=\"random_by_user\", random_state=0)\n",
    "\n",
    "print(train.shape, test.shape)"
   ]
  },
  {
   "cell_type": "markdown",
   "id": "018b11de",
   "metadata": {},
   "source": [
    "# **3. WRMF Models**"
   ]
  },
  {
   "cell_type": "code",
   "execution_count": 13,
   "id": "2fb99e4a",
   "metadata": {},
   "outputs": [
    {
     "name": "stdout",
     "output_type": "stream",
     "text": [
      "maximum of weights=0.01, minimum=0.01\n",
      "maximum of weights=0.1, minimum=0.1\n",
      "maximum of weights=4.123, minimum=0.112\n",
      "maximum of weights=0.9420000000000001, minimum=0.482\n",
      "maximum of weights=0.3027277087538526, minimum=0.30087664168585826\n"
     ]
    }
   ],
   "source": [
    "factors = 128\n",
    "models = [\n",
    "    WRMF(train, weight_strategy=\"uniform_pos\", alpha=0.01, k=32, learning_rate=0.01),\n",
    "    WRMF(train, weight_strategy=\"uniform_neg\", alpha=0.1, lambda_u=0.1, \n",
    "         lambda_v=0.1, k=factors, learning_rate=0.01),\n",
    "    WRMF(train, weight_strategy=\"user_oriented\", alpha=0.007, lambda_u=0.1, \n",
    "         lambda_v=0.1, k=factors, learning_rate=0.01),\n",
    "    WRMF(train, weight_strategy=\"item_oriented\", alpha=0.001, k=factors, learning_rate=0.01),\n",
    "    WRMF(train, weight_strategy=\"item_popularity\", alpha=0.001, c_0=500, \n",
    "         lambda_u=0.1, lambda_v=0.1, k=factors, learning_rate=0.01),\n",
    "]\n",
    "\n",
    "strategies = [\n",
    "    \"uniform_pos\",\n",
    "    \"uniform_neg\",\n",
    "    \"user_oriented\",\n",
    "    \"item_oriented\",\n",
    "    \"item_popularity\"\n",
    "]"
   ]
  },
  {
   "cell_type": "markdown",
   "id": "1d0e1be3",
   "metadata": {},
   "source": [
    "# **4. Train Models and Test**"
   ]
  },
  {
   "cell_type": "code",
   "execution_count": 14,
   "id": "b2f383e6",
   "metadata": {},
   "outputs": [],
   "source": [
    "def generate_summary(data, strategy, k, train_time, ranking_metrics):\n",
    "    summary = {\"Data\": data, \"Strategy\": strategy, \"K\": k, \"Train time (s)\": train_time}\n",
    "    if ranking_metrics is None:\n",
    "        ranking_metrics = {\n",
    "            \"Precision@k\": np.nan,\n",
    "            \"Recall@k\": np.nan,\n",
    "            \"NDCG@k\": np.nan,\n",
    "        }\n",
    "    summary.update(ranking_metrics)\n",
    "    return summary"
   ]
  },
  {
   "cell_type": "code",
   "execution_count": 15,
   "id": "a2d0de17",
   "metadata": {},
   "outputs": [
    {
     "name": "stdout",
     "output_type": "stream",
     "text": [
      "*******************************  uniform_pos  *******************************\n"
     ]
    },
    {
     "data": {
      "application/vnd.jupyter.widget-view+json": {
       "model_id": "4e659134498c4fdf8724687326f779b2",
       "version_major": 2,
       "version_minor": 0
      },
      "text/plain": [
       "HBox(children=(HTML(value=''), FloatProgress(value=0.0), HTML(value='')))"
      ]
     },
     "metadata": {},
     "output_type": "display_data"
    },
    {
     "name": "stdout",
     "output_type": "stream",
     "text": [
      "\n",
      "Learning completed!\n",
      "*******************************  uniform_neg  *******************************\n"
     ]
    },
    {
     "data": {
      "application/vnd.jupyter.widget-view+json": {
       "model_id": "39087fe54c3c4160976167d6202a72ad",
       "version_major": 2,
       "version_minor": 0
      },
      "text/plain": [
       "HBox(children=(HTML(value=''), FloatProgress(value=0.0), HTML(value='')))"
      ]
     },
     "metadata": {},
     "output_type": "display_data"
    },
    {
     "name": "stdout",
     "output_type": "stream",
     "text": [
      "\n",
      "Learning completed!\n",
      "*******************************  user_oriented  *******************************\n"
     ]
    },
    {
     "data": {
      "application/vnd.jupyter.widget-view+json": {
       "model_id": "012b43d9542d458f847ab9810be63dbf",
       "version_major": 2,
       "version_minor": 0
      },
      "text/plain": [
       "HBox(children=(HTML(value=''), FloatProgress(value=0.0), HTML(value='')))"
      ]
     },
     "metadata": {},
     "output_type": "display_data"
    },
    {
     "name": "stdout",
     "output_type": "stream",
     "text": [
      "\n",
      "Learning completed!\n",
      "*******************************  item_oriented  *******************************\n"
     ]
    },
    {
     "data": {
      "application/vnd.jupyter.widget-view+json": {
       "model_id": "c495045cb6b8462c835eb4bdc87f7e3d",
       "version_major": 2,
       "version_minor": 0
      },
      "text/plain": [
       "HBox(children=(HTML(value=''), FloatProgress(value=0.0), HTML(value='')))"
      ]
     },
     "metadata": {},
     "output_type": "display_data"
    },
    {
     "name": "stdout",
     "output_type": "stream",
     "text": [
      "\n",
      "Learning completed!\n",
      "*******************************  item_popularity  *******************************\n"
     ]
    },
    {
     "data": {
      "application/vnd.jupyter.widget-view+json": {
       "model_id": "b172994340c540dc87ceeef8f2c53fd7",
       "version_major": 2,
       "version_minor": 0
      },
      "text/plain": [
       "HBox(children=(HTML(value=''), FloatProgress(value=0.0), HTML(value='')))"
      ]
     },
     "metadata": {},
     "output_type": "display_data"
    },
    {
     "name": "stdout",
     "output_type": "stream",
     "text": [
      "\n",
      "Learning completed!\n"
     ]
    }
   ],
   "source": [
    "cols = [\"Data\", \"Strategy\", \"K\", \"Train time (s)\",\"Precision@k\", \"Recall@k\", \"NDCG@k\"]\n",
    "df_result = pd.DataFrame(columns=cols)\n",
    "k = 10\n",
    "\n",
    "\n",
    "for strategy, model in zip(strategies, models):\n",
    "    print(\"******************************* \", strategy, \" *******************************\")\n",
    "    # 1. train\n",
    "    with Timer() as train_time:\n",
    "        model =  train_cornac(model, train)\n",
    "    \n",
    "    # 2. recommendation\n",
    "    top_10 = wrmf_rec.recommend_top_k(model, train, k)\n",
    "    \n",
    "    # 3. evaluation - ranking metric@k\n",
    "    eval_result = ranking_metrics(top_10, test)\n",
    "    \n",
    "    # 4. summary of evaluation results\n",
    "    summary = generate_summary(DATANAME, strategy, k, train_time, eval_result)\n",
    "    df_result.loc[df_result.shape[0] + 1] = summary"
   ]
  },
  {
   "cell_type": "markdown",
   "id": "3233872e",
   "metadata": {},
   "source": [
    "# **5. Summary**"
   ]
  },
  {
   "cell_type": "code",
   "execution_count": 16,
   "id": "a92a2235",
   "metadata": {},
   "outputs": [
    {
     "data": {
      "text/html": [
       "<div>\n",
       "<style scoped>\n",
       "    .dataframe tbody tr th:only-of-type {\n",
       "        vertical-align: middle;\n",
       "    }\n",
       "\n",
       "    .dataframe tbody tr th {\n",
       "        vertical-align: top;\n",
       "    }\n",
       "\n",
       "    .dataframe thead th {\n",
       "        text-align: right;\n",
       "    }\n",
       "</style>\n",
       "<table border=\"1\" class=\"dataframe\">\n",
       "  <thead>\n",
       "    <tr style=\"text-align: right;\">\n",
       "      <th></th>\n",
       "      <th>Data</th>\n",
       "      <th>Strategy</th>\n",
       "      <th>K</th>\n",
       "      <th>Train time (s)</th>\n",
       "      <th>Precision@k</th>\n",
       "      <th>Recall@k</th>\n",
       "      <th>NDCG@k</th>\n",
       "    </tr>\n",
       "  </thead>\n",
       "  <tbody>\n",
       "    <tr>\n",
       "      <th>1</th>\n",
       "      <td>movielens100k</td>\n",
       "      <td>uniform_pos</td>\n",
       "      <td>10</td>\n",
       "      <td>6.2740</td>\n",
       "      <td>0.292365</td>\n",
       "      <td>0.184272</td>\n",
       "      <td>0.343978</td>\n",
       "    </tr>\n",
       "    <tr>\n",
       "      <th>2</th>\n",
       "      <td>movielens100k</td>\n",
       "      <td>uniform_neg</td>\n",
       "      <td>10</td>\n",
       "      <td>9.2785</td>\n",
       "      <td>0.327253</td>\n",
       "      <td>0.215326</td>\n",
       "      <td>0.383740</td>\n",
       "    </tr>\n",
       "    <tr>\n",
       "      <th>3</th>\n",
       "      <td>movielens100k</td>\n",
       "      <td>user_oriented</td>\n",
       "      <td>10</td>\n",
       "      <td>10.6478</td>\n",
       "      <td>0.366172</td>\n",
       "      <td>0.230124</td>\n",
       "      <td>0.431030</td>\n",
       "    </tr>\n",
       "    <tr>\n",
       "      <th>4</th>\n",
       "      <td>movielens100k</td>\n",
       "      <td>item_oriented</td>\n",
       "      <td>10</td>\n",
       "      <td>9.8481</td>\n",
       "      <td>0.361082</td>\n",
       "      <td>0.229981</td>\n",
       "      <td>0.426998</td>\n",
       "    </tr>\n",
       "    <tr>\n",
       "      <th>5</th>\n",
       "      <td>movielens100k</td>\n",
       "      <td>item_popularity</td>\n",
       "      <td>10</td>\n",
       "      <td>11.0064</td>\n",
       "      <td>0.360551</td>\n",
       "      <td>0.231452</td>\n",
       "      <td>0.423511</td>\n",
       "    </tr>\n",
       "  </tbody>\n",
       "</table>\n",
       "</div>"
      ],
      "text/plain": [
       "            Data         Strategy   K Train time (s)  Precision@k  Recall@k  \\\n",
       "1  movielens100k      uniform_pos  10         6.2740     0.292365  0.184272   \n",
       "2  movielens100k      uniform_neg  10         9.2785     0.327253  0.215326   \n",
       "3  movielens100k    user_oriented  10        10.6478     0.366172  0.230124   \n",
       "4  movielens100k    item_oriented  10         9.8481     0.361082  0.229981   \n",
       "5  movielens100k  item_popularity  10        11.0064     0.360551  0.231452   \n",
       "\n",
       "     NDCG@k  \n",
       "1  0.343978  \n",
       "2  0.383740  \n",
       "3  0.431030  \n",
       "4  0.426998  \n",
       "5  0.423511  "
      ]
     },
     "execution_count": 16,
     "metadata": {},
     "output_type": "execute_result"
    }
   ],
   "source": [
    "df_result"
   ]
  },
  {
   "cell_type": "code",
   "execution_count": null,
   "id": "d05ffb09",
   "metadata": {},
   "outputs": [],
   "source": []
  }
 ],
 "metadata": {
  "kernelspec": {
   "display_name": "python_recsys",
   "language": "python",
   "name": "recsys"
  },
  "language_info": {
   "codemirror_mode": {
    "name": "ipython",
    "version": 3
   },
   "file_extension": ".py",
   "mimetype": "text/x-python",
   "name": "python",
   "nbconvert_exporter": "python",
   "pygments_lexer": "ipython3",
   "version": "3.6.12"
  },
  "toc": {
   "base_numbering": 1,
   "nav_menu": {},
   "number_sections": false,
   "sideBar": true,
   "skip_h1_title": false,
   "title_cell": "Table of Contents",
   "title_sidebar": "Contents",
   "toc_cell": false,
   "toc_position": {
    "height": "calc(100% - 180px)",
    "left": "10px",
    "top": "150px",
    "width": "164.988px"
   },
   "toc_section_display": true,
   "toc_window_display": true
  },
  "varInspector": {
   "cols": {
    "lenName": 16,
    "lenType": 16,
    "lenVar": 40
   },
   "kernels_config": {
    "python": {
     "delete_cmd_postfix": "",
     "delete_cmd_prefix": "del ",
     "library": "var_list.py",
     "varRefreshCmd": "print(var_dic_list())"
    },
    "r": {
     "delete_cmd_postfix": ") ",
     "delete_cmd_prefix": "rm(",
     "library": "var_list.r",
     "varRefreshCmd": "cat(var_dic_list()) "
    }
   },
   "types_to_exclude": [
    "module",
    "function",
    "builtin_function_or_method",
    "instance",
    "_Feature"
   ],
   "window_display": false
  }
 },
 "nbformat": 4,
 "nbformat_minor": 5
}
